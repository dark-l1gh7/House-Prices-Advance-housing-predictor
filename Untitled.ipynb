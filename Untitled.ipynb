{
 "cells": [
  {
   "cell_type": "code",
   "execution_count": null,
   "id": "80b0950d",
   "metadata": {},
   "outputs": [],
   "source": [
    "import pandas as pd\n",
    "import numpy as np \n",
    "import matplotlib.pyplot as plt\n",
    "import seaborn as sns"
   ]
  },
  {
   "cell_type": "code",
   "execution_count": null,
   "id": "317e17e6",
   "metadata": {},
   "outputs": [],
   "source": [
    "d1 = pd.read_csv(\"train.csv\")"
   ]
  },
  {
   "cell_type": "code",
   "execution_count": null,
   "id": "99b466b7",
   "metadata": {},
   "outputs": [],
   "source": [
    "#checking the no.of rows and coloumns\n",
    "d1.shape"
   ]
  },
  {
   "cell_type": "code",
   "execution_count": null,
   "id": "8a03c5f1",
   "metadata": {},
   "outputs": [],
   "source": [
    "d1.isnull()"
   ]
  },
  {
   "cell_type": "code",
   "execution_count": null,
   "id": "ef641e23",
   "metadata": {},
   "outputs": [],
   "source": [
    "d1[d1.columns[d1.isna().any()]].isna().sum()/len(d1)*100"
   ]
  },
  {
   "cell_type": "code",
   "execution_count": null,
   "id": "04e0cdac",
   "metadata": {},
   "outputs": [],
   "source": [
    "d1.head(5)"
   ]
  },
  {
   "cell_type": "code",
   "execution_count": null,
   "id": "e8638f05",
   "metadata": {},
   "outputs": [],
   "source": [
    "d2 = [d3 for d3 in d1.columns if d1[d3].isnull().sum()>=1]"
   ]
  },
  {
   "cell_type": "code",
   "execution_count": null,
   "id": "e88cdc72",
   "metadata": {},
   "outputs": [],
   "source": [
    "for col in d2:\n",
    "    d4 = d1.copy()\n",
    "    d4[col] = np.where(d4[col].isnull(),1,0)\n",
    "    d4.groupby(col)[\"SalePrice\"].median().plot.bar()\n",
    "    plt.title(col)\n",
    "    plt.show()"
   ]
  },
  {
   "cell_type": "code",
   "execution_count": null,
   "id": "92118abe",
   "metadata": {},
   "outputs": [],
   "source": [
    "pd.pandas.set_option('display.max_columns',None)"
   ]
  },
  {
   "cell_type": "code",
   "execution_count": null,
   "id": "c2cedcbc",
   "metadata": {},
   "outputs": [],
   "source": [
    "d2"
   ]
  },
  {
   "cell_type": "code",
   "execution_count": null,
   "id": "5f053536",
   "metadata": {},
   "outputs": [],
   "source": [
    "d_num = [d3 for d3 in d1.columns if d1[d3].dtype!= \"O\"]"
   ]
  },
  {
   "cell_type": "code",
   "execution_count": null,
   "id": "43bf00b7",
   "metadata": {},
   "outputs": [],
   "source": [
    "d1[d_num]"
   ]
  },
  {
   "cell_type": "code",
   "execution_count": null,
   "id": "d2d076ab",
   "metadata": {},
   "outputs": [],
   "source": [
    "#now seperating the years coloumn\n",
    "yer = [fet for fet in d_num if \"Yr\" in fet or \"Year\" in fet or \"yr\" in fet or \"year\" in fet]"
   ]
  },
  {
   "cell_type": "code",
   "execution_count": null,
   "id": "732195d8",
   "metadata": {},
   "outputs": [],
   "source": [
    "yer"
   ]
  },
  {
   "cell_type": "code",
   "execution_count": null,
   "id": "5f14cbf7",
   "metadata": {},
   "outputs": [],
   "source": [
    " yer.remove[\"yrsold\"]"
   ]
  },
  {
   "cell_type": "code",
   "execution_count": null,
   "id": "efd650b7",
   "metadata": {},
   "outputs": [],
   "source": []
  },
  {
   "cell_type": "code",
   "execution_count": null,
   "id": "2ed725e3",
   "metadata": {},
   "outputs": [],
   "source": [
    "for col in yer:\n",
    "    d4 = d1.copy()\n",
    "    d4[col]=d4['YrSold']-d4[col]\n",
    "    plt.scatter(d4[col],d4['SalePrice'])\n",
    "    plt.title(col)\n",
    "    plt.show()"
   ]
  },
  {
   "cell_type": "code",
   "execution_count": null,
   "id": "f9955bd6",
   "metadata": {},
   "outputs": [],
   "source": [
    "d1"
   ]
  },
  {
   "cell_type": "code",
   "execution_count": null,
   "id": "77128754",
   "metadata": {},
   "outputs": [],
   "source": [
    "#descreet values\n",
    "d5 = [d3 for d3 in d_num if len(d1[d3].unique())<25 and d3 not in yer +[\"id\"]]"
   ]
  },
  {
   "cell_type": "code",
   "execution_count": null,
   "id": "ffe41d60",
   "metadata": {},
   "outputs": [],
   "source": [
    "d5"
   ]
  },
  {
   "cell_type": "code",
   "execution_count": null,
   "id": "57b9a3ed",
   "metadata": {},
   "outputs": [],
   "source": [
    "for col in d5 :\n",
    "    d1.groupby(col)[\"SalePrice\"].median().plot.bar()\n",
    "    plt.xlabel(col)\n",
    "    plt.ylabel(\"Price\")\n",
    "    plt.title(col)\n",
    "    plt.show()"
   ]
  },
  {
   "cell_type": "code",
   "execution_count": null,
   "id": "e2bb5d0a",
   "metadata": {},
   "outputs": [],
   "source": [
    "#continiuous values\n",
    "cont1 = [d3 for d3 in d_num if d3 not in d5+yer+[\"Id\"]]\n",
    "cont1"
   ]
  },
  {
   "cell_type": "code",
   "execution_count": null,
   "id": "63d46df9",
   "metadata": {},
   "outputs": [],
   "source": [
    "for col in cont1:\n",
    "    d1[col].hist(bins = 30)\n",
    "    plt.xlabel(col)\n",
    "    plt.ylabel(\"price\")\n",
    "    plt.title(col)\n",
    "    plt.show()"
   ]
  },
  {
   "cell_type": "markdown",
   "id": "d2f505fd",
   "metadata": {},
   "source": [
    "this tell us some features dont have gausian distribution which means we have skewed data so we need to normalize the data "
   ]
  },
  {
   "cell_type": "code",
   "execution_count": null,
   "id": "e422282f",
   "metadata": {},
   "outputs": [],
   "source": [
    "for col in cont1 :\n",
    "    data1 = d1.copy()\n",
    "    if 0 in data1[col].unique():\n",
    "        pass\n",
    "    else:\n",
    "        data1[col] = np.log(data1[col])\n",
    "        data1[\"SalePrice\"] = np.log(data1[\"SalePrice\"])\n",
    "        plt.scatter(data1[col],data1[\"SalePrice\"])\n",
    "        plt.xlabel(col)\n",
    "        plt.ylabel(\"price\")\n",
    "        plt.title(col)\n",
    "        plt.show()\n",
    "        "
   ]
  },
  {
   "cell_type": "code",
   "execution_count": null,
   "id": "766677cd",
   "metadata": {},
   "outputs": [],
   "source": [
    "for col in cont1 :\n",
    "    plt.scatter(d1[col],d1[\"SalePrice\"])\n",
    "    plt.xlabel(col)\n",
    "    plt.ylabel(\"price\")\n",
    "    plt.title(col)\n",
    "    plt.show()"
   ]
  },
  {
   "cell_type": "code",
   "execution_count": null,
   "id": "c7eb1ae1",
   "metadata": {},
   "outputs": [],
   "source": [
    "for col in cont1 :\n",
    "    data1 = d1.copy()\n",
    "    if 0 in data1[col].unique():\n",
    "        pass\n",
    "    else:\n",
    "        data1[col] = np.log(data1[col])\n",
    "        data1[\"SalePrice\"] = np.log(data1[\"SalePrice\"])\n",
    "        plt.hist(data1[col] , bins = 25)\n",
    "        plt.xlabel(col)\n",
    "        plt.ylabel(\"price\")\n",
    "        plt.title(col)\n",
    "        plt.show()\n",
    "        "
   ]
  },
  {
   "cell_type": "code",
   "execution_count": null,
   "id": "f6fee309",
   "metadata": {},
   "outputs": [],
   "source": [
    "#categorical values\n",
    "cat1 = [d3 for d3 in d1.columns if d1[d3].dtypes ==\"O\"]"
   ]
  },
  {
   "cell_type": "code",
   "execution_count": null,
   "id": "28c27f5b",
   "metadata": {
    "scrolled": true
   },
   "outputs": [],
   "source": [
    "#nunique returns the count\n",
    "d1[cat1].nunique()"
   ]
  },
  {
   "cell_type": "markdown",
   "id": "3eba70bf",
   "metadata": {},
   "source": [
    "we need to tend to these high categorical values such as 25 , 15, 16 before doing one hot encoding for it"
   ]
  },
  {
   "cell_type": "code",
   "execution_count": null,
   "id": "5f5f4948",
   "metadata": {},
   "outputs": [],
   "source": [
    "#to get the names of those categories\n",
    "for col in cat1:\n",
    "    print(f\"{col} unique values:\", d1[col].unique() , d1[col].nunique())\n",
    "   "
   ]
  },
  {
   "cell_type": "code",
   "execution_count": null,
   "id": "6179a830",
   "metadata": {},
   "outputs": [],
   "source": [
    "for col in cat1:\n",
    "    d1.groupby(col)[\"SalePrice\"].median().plot.bar()\n",
    "    plt.xlabel(col)\n",
    "    plt.ylabel(\"price\")\n",
    "    plt.title(col)\n",
    "    plt.show()"
   ]
  },
  {
   "cell_type": "markdown",
   "id": "2ff30559",
   "metadata": {},
   "source": [
    "done with the eda part \n"
   ]
  },
  {
   "cell_type": "code",
   "execution_count": null,
   "id": "64024760",
   "metadata": {},
   "outputs": [],
   "source": [
    "d1[cat1] = d1[cat1].fillna(\"missing\")"
   ]
  },
  {
   "cell_type": "code",
   "execution_count": null,
   "id": "2a8422b8",
   "metadata": {},
   "outputs": [],
   "source": [
    "d1[cat1].isnull().sum()"
   ]
  },
  {
   "cell_type": "code",
   "execution_count": null,
   "id": "4dc171ef",
   "metadata": {},
   "outputs": [],
   "source": [
    "d7 = [d3 for d3 in d1.columns if d1[d3].dtypes !=\"O\"]"
   ]
  },
  {
   "cell_type": "code",
   "execution_count": null,
   "id": "26da8a0e",
   "metadata": {},
   "outputs": [],
   "source": [
    "d1[d7].isnull().sum()"
   ]
  },
  {
   "cell_type": "code",
   "execution_count": null,
   "id": "0e40ce51",
   "metadata": {},
   "outputs": [],
   "source": [
    "for col in d7 :\n",
    "    med = d1[col].median()\n",
    "    d1[col].fillna(med, inplace = True)"
   ]
  },
  {
   "cell_type": "code",
   "execution_count": null,
   "id": "bd95ea1b",
   "metadata": {},
   "outputs": [],
   "source": [
    "d1[d7].isnull().sum()"
   ]
  },
  {
   "cell_type": "code",
   "execution_count": null,
   "id": "281202ef",
   "metadata": {},
   "outputs": [],
   "source": [
    "year1 = yer.copy()\n",
    "year1.remove(\"YrSold\")\n",
    "for col in year1 :\n",
    "    d1[col]= d1[\"YrSold\"] - d1[col]"
   ]
  },
  {
   "cell_type": "code",
   "execution_count": null,
   "id": "b1fd29f3",
   "metadata": {},
   "outputs": [],
   "source": [
    "d1[year1]"
   ]
  },
  {
   "cell_type": "code",
   "execution_count": null,
   "id": "73b6b752",
   "metadata": {},
   "outputs": [],
   "source": [
    "d9 = [d3 for d3 in d1[d7] if 0 not in d1[d3].unique()]"
   ]
  },
  {
   "cell_type": "code",
   "execution_count": null,
   "id": "1379a2e0",
   "metadata": {},
   "outputs": [],
   "source": [
    "d10 = [d3 for d3 in d1[d9] if d3 not in [\"Id\"]+[\"MSSubClass\"]+['OverallQual']+[\"YrSold\"]+[\"MoSold\"]+[\"TotRmsAbvGrd\"]+[\"OverallQual\"]+[\"OverallCond\"]]"
   ]
  },
  {
   "cell_type": "code",
   "execution_count": null,
   "id": "a1ec8cc8",
   "metadata": {},
   "outputs": [],
   "source": [
    "d10"
   ]
  },
  {
   "cell_type": "code",
   "execution_count": null,
   "id": "20dc1066",
   "metadata": {},
   "outputs": [],
   "source": [
    "for col in d10 :\n",
    "    d1[col] = np.log(d1[col])"
   ]
  },
  {
   "cell_type": "code",
   "execution_count": null,
   "id": "369325b2",
   "metadata": {},
   "outputs": [],
   "source": [
    "for col in d10 :\n",
    "    plt.hist(d1[col],bins=30)\n",
    "    plt.xlabel(col)\n",
    "    plt.ylabel(\"price\")\n",
    "    plt.title(col)\n",
    "    plt.show()"
   ]
  },
  {
   "cell_type": "markdown",
   "id": "52a04c37",
   "metadata": {},
   "source": [
    "done with skewness\n"
   ]
  },
  {
   "cell_type": "code",
   "execution_count": null,
   "id": "e994b3d1",
   "metadata": {},
   "outputs": [],
   "source": [
    "d1.head()"
   ]
  },
  {
   "cell_type": "code",
   "execution_count": null,
   "id": "fd5e8352",
   "metadata": {},
   "outputs": [],
   "source": [
    "d1[cat1]"
   ]
  },
  {
   "cell_type": "code",
   "execution_count": null,
   "id": "131e7537",
   "metadata": {},
   "outputs": [],
   "source": [
    "#now we do the scaling of these features \n",
    "scaled = [i for i in d1.columns if i not in [\"Id\",\"SalePrice\"]]"
   ]
  },
  {
   "cell_type": "code",
   "execution_count": null,
   "id": "67f0882e",
   "metadata": {},
   "outputs": [],
   "source": [
    "d1[scaled]"
   ]
  },
  {
   "cell_type": "code",
   "execution_count": null,
   "id": "7954b4ee",
   "metadata": {},
   "outputs": [],
   "source": [
    "from sklearn.preprocessing import MinMaxScaler"
   ]
  },
  {
   "cell_type": "code",
   "execution_count": null,
   "id": "522f5b67",
   "metadata": {},
   "outputs": [],
   "source": [
    "scale = MinMaxScaler(copy = True)\n",
    "scale.fit(d1[scaled])"
   ]
  },
  {
   "cell_type": "code",
   "execution_count": null,
   "id": "428282e9",
   "metadata": {},
   "outputs": [],
   "source": [
    "scale.transform(d1[scaled])"
   ]
  },
  {
   "cell_type": "code",
   "execution_count": null,
   "id": "c792c724",
   "metadata": {},
   "outputs": [],
   "source": [
    "added = pd.concat([d1[[\"Id\",\"SalePrice\"]].reset_index(drop=True),\n",
    "                   pd.DataFrame(scale.transform(d1[scaled]) , columns = scaled)],axis=1)"
   ]
  },
  {
   "cell_type": "code",
   "execution_count": null,
   "id": "31ed9b6c",
   "metadata": {},
   "outputs": [],
   "source": [
    "#this is my final data frame\n",
    "added.head()"
   ]
  },
  {
   "cell_type": "code",
   "execution_count": null,
   "id": "1f21eb4f",
   "metadata": {},
   "outputs": [],
   "source": [
    "added.to_csv(\"X_train.csv\", index  = False)"
   ]
  },
  {
   "cell_type": "code",
   "execution_count": null,
   "id": "3d74c7cc",
   "metadata": {},
   "outputs": [],
   "source": [
    "#Now we do feature selection\n",
    "#used lasso because it helps in feature selection by telling us true or false use get_support()\n",
    "from sklearn.linear_model import Lasso\n",
    "from sklearn.feature_selection import SelectFromModel"
   ]
  },
  {
   "cell_type": "code",
   "execution_count": null,
   "id": "0e24df69",
   "metadata": {},
   "outputs": [],
   "source": [
    "dataset1 = pd.read_csv(\"X_train.csv\")"
   ]
  },
  {
   "cell_type": "code",
   "execution_count": null,
   "id": "724456b5",
   "metadata": {},
   "outputs": [],
   "source": [
    "y_train = dataset1[[\"SalePrice\"]]\n",
    "X_train = dataset1.drop([\"Id\",\"SalePrice\"], axis= 1)"
   ]
  },
  {
   "cell_type": "code",
   "execution_count": null,
   "id": "f85e346f",
   "metadata": {},
   "outputs": [],
   "source": [
    "feat_sel = SelectFromModel(Lasso(alpha = 0.005 , random_state = 0 ))\n",
    "feat_sel.fit(X_train , y_train)"
   ]
  },
  {
   "cell_type": "code",
   "execution_count": null,
   "id": "b77ac6d8",
   "metadata": {},
   "outputs": [],
   "source": [
    "feat_sel.get_support()"
   ]
  },
  {
   "cell_type": "code",
   "execution_count": null,
   "id": "3c3046cb",
   "metadata": {},
   "outputs": [],
   "source": [
    "selcted = X_train.columns[(feat_sel.get_support())]\n",
    "print(len(selcted))"
   ]
  },
  {
   "cell_type": "code",
   "execution_count": null,
   "id": "05456142",
   "metadata": {},
   "outputs": [],
   "source": [
    "# so this is our last trained now we can use regression\n",
    "X_train = X_train[selcted]"
   ]
  },
  {
   "cell_type": "code",
   "execution_count": null,
   "id": "d0c97842",
   "metadata": {},
   "outputs": [],
   "source": [
    "from sklearn.ensemble import RandomForestRegressor\n",
    "from sklearn.model_selection import RandomizedSearchCV\n",
    "from sklearn.linear_model import LinearRegression\n",
    "from sklearn.metrics import mean_absolute_error, r2_score"
   ]
  },
  {
   "cell_type": "code",
   "execution_count": null,
   "id": "3f7ff531",
   "metadata": {},
   "outputs": [],
   "source": [
    "model = LinearRegression()\n",
    "model.fit(X_train, y_train)\n",
    "\n",
    "preds = model.predict(X_val)\n",
    "print(\"MAE:\", mean_absolute_error(y_val, preds))\n",
    "print(\"R2 Score:\", r2_score(y_val, preds))"
   ]
  },
  {
   "cell_type": "code",
   "execution_count": null,
   "id": "6e800b29",
   "metadata": {},
   "outputs": [],
   "source": []
  }
 ],
 "metadata": {
  "kernelspec": {
   "display_name": "Python 3 (ipykernel)",
   "language": "python",
   "name": "python3"
  },
  "language_info": {
   "codemirror_mode": {
    "name": "ipython",
    "version": 3
   },
   "file_extension": ".py",
   "mimetype": "text/x-python",
   "name": "python",
   "nbconvert_exporter": "python",
   "pygments_lexer": "ipython3",
   "version": "3.9.12"
  }
 },
 "nbformat": 4,
 "nbformat_minor": 5
}
