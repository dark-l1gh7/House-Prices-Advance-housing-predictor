{
 "cells": [
  {
   "cell_type": "code",
   "execution_count": 1,
   "id": "c5a59a7a",
   "metadata": {},
   "outputs": [],
   "source": [
    "import pandas as pd\n",
    "import numpy as np \n",
    "import matplotlib.pyplot as plt\n",
    "%matplotlib inline\n",
    "import seaborn as sns"
   ]
  },
  {
   "cell_type": "code",
   "execution_count": 2,
   "id": "89cab991",
   "metadata": {},
   "outputs": [],
   "source": [
    "dataset = pd.read_csv(\"train.csv\")"
   ]
  },
  {
   "cell_type": "code",
   "execution_count": 3,
   "id": "eea43a9e",
   "metadata": {},
   "outputs": [],
   "source": [
    "#numerical feature and catogrical features and do look for this o it is captial not small***\n",
    "num = [i for i in dataset.columns if dataset[i].dtypes != \"O\"]\n",
    "cat = [i for i in dataset.columns if dataset[i].dtypes == \"O\"]"
   ]
  },
  {
   "cell_type": "code",
   "execution_count": 4,
   "id": "3afaea31",
   "metadata": {},
   "outputs": [],
   "source": [
    "yer = [i for i in dataset[num] if \"Yr\" in i or \"Year\" in i]\n",
    "cont = [i for i in dataset[num] if len(dataset[i].unique()) > 25 and i not in yer + [\"Id\"]]\n",
    "des = [i for i in dataset[num] if i not in cont]"
   ]
  },
  {
   "cell_type": "code",
   "execution_count": 5,
   "id": "da0f7fde",
   "metadata": {},
   "outputs": [],
   "source": [
    "#now we will recalibrate year by sold year - current year features\n",
    "yer.remove(\"YrSold\")\n",
    "for i in yer :\n",
    "    dataset[i]= dataset[\"YrSold\"] - dataset[i]"
   ]
  },
  {
   "cell_type": "code",
   "execution_count": 6,
   "id": "6df2ebb0",
   "metadata": {},
   "outputs": [],
   "source": [
    "#now we will take median value in numerical data to fill na\n",
    "dataset[num]= dataset[num].fillna(dataset[num].median())"
   ]
  },
  {
   "cell_type": "code",
   "execution_count": 7,
   "id": "c70cc5e6",
   "metadata": {},
   "outputs": [],
   "source": [
    "#now we will remove skewness from continous data by using log\n",
    "non_zero = [i for i in dataset[cont] if 0 not in dataset[i].unique()]\n",
    "log_list = ['LotFrontage', 'LotArea', '1stFlrSF', 'GrLivArea','SalePrice']\n",
    "for i in log_list:\n",
    "    dataset[i] = np.log(dataset[i])"
   ]
  },
  {
   "cell_type": "code",
   "execution_count": 8,
   "id": "681d3869",
   "metadata": {},
   "outputs": [],
   "source": [
    "#now changeing categorical data to numbers basically ranking encoding not the normal one hot encoding *** use frequency encoding best fit\n",
    "# Select categorical columns first\n",
    "for col in cat:\n",
    "    dataset[col] = dataset[col].fillna(\"Missing\")\n",
    "\n",
    "freq_maps = {}\n",
    "\n",
    "for col in cat:\n",
    "    freq = dataset[col].value_counts() / len(dataset)\n",
    "    freq_maps[col] = freq                 # ✅ Save mapping\n",
    "    dataset[col] = dataset[col].map(freq)"
   ]
  },
  {
   "cell_type": "code",
   "execution_count": 9,
   "id": "a207eb01",
   "metadata": {},
   "outputs": [],
   "source": [
    "non_skew = [i for i in num if i not in non_zero + [\"Id\"]+[\"YrSold\"] + yer + [\"MoSold\"] + [\"SalePrice\"]]"
   ]
  },
  {
   "cell_type": "code",
   "execution_count": 10,
   "id": "781c100c",
   "metadata": {},
   "outputs": [],
   "source": [
    "for i in non_skew :\n",
    "    dataset[i] = np.log1p(dataset[i])"
   ]
  },
  {
   "cell_type": "code",
   "execution_count": 11,
   "id": "f76d7e29",
   "metadata": {},
   "outputs": [
    {
     "data": {
      "text/plain": [
       "MinMaxScaler()"
      ]
     },
     "execution_count": 11,
     "metadata": {},
     "output_type": "execute_result"
    }
   ],
   "source": [
    "#now scaling part \n",
    "scaled = [i for i in dataset.columns if i not in [\"Id\",\"SalePrice\"]]\n",
    "from sklearn.preprocessing import MinMaxScaler\n",
    "scale = MinMaxScaler()\n",
    "scale.fit(dataset[scaled])"
   ]
  },
  {
   "cell_type": "code",
   "execution_count": 12,
   "id": "f6a4844e",
   "metadata": {},
   "outputs": [],
   "source": [
    "scale.transform(dataset[scaled])\n",
    "added = pd.concat([dataset[[\"Id\" , \"SalePrice\"]].reset_index(drop=True),\n",
    "                   pd.DataFrame(scale.transform(dataset[scaled]) , columns = scaled)],axis=1)"
   ]
  },
  {
   "cell_type": "code",
   "execution_count": 13,
   "id": "0d1c5e47",
   "metadata": {},
   "outputs": [],
   "source": [
    "added.to_csv(\"X_train.csv\", index  = False)"
   ]
  },
  {
   "cell_type": "code",
   "execution_count": 14,
   "id": "103a2c25",
   "metadata": {},
   "outputs": [
    {
     "name": "stdout",
     "output_type": "stream",
     "text": [
      "{'MSZoning': RL         0.788356\n",
      "RM         0.149315\n",
      "FV         0.044521\n",
      "RH         0.010959\n",
      "C (all)    0.006849\n",
      "Name: MSZoning, dtype: float64, 'Street': Pave    0.99589\n",
      "Grvl    0.00411\n",
      "Name: Street, dtype: float64, 'Alley': Missing    0.937671\n",
      "Grvl       0.034247\n",
      "Pave       0.028082\n",
      "Name: Alley, dtype: float64, 'LotShape': Reg    0.633562\n",
      "IR1    0.331507\n",
      "IR2    0.028082\n",
      "IR3    0.006849\n",
      "Name: LotShape, dtype: float64, 'LandContour': Lvl    0.897945\n",
      "Bnk    0.043151\n",
      "HLS    0.034247\n",
      "Low    0.024658\n",
      "Name: LandContour, dtype: float64, 'Utilities': AllPub    0.999315\n",
      "NoSeWa    0.000685\n",
      "Name: Utilities, dtype: float64, 'LotConfig': Inside     0.720548\n",
      "Corner     0.180137\n",
      "CulDSac    0.064384\n",
      "FR2        0.032192\n",
      "FR3        0.002740\n",
      "Name: LotConfig, dtype: float64, 'LandSlope': Gtl    0.946575\n",
      "Mod    0.044521\n",
      "Sev    0.008904\n",
      "Name: LandSlope, dtype: float64, 'Neighborhood': NAmes      0.154110\n",
      "CollgCr    0.102740\n",
      "OldTown    0.077397\n",
      "Edwards    0.068493\n",
      "Somerst    0.058904\n",
      "Gilbert    0.054110\n",
      "NridgHt    0.052740\n",
      "Sawyer     0.050685\n",
      "NWAmes     0.050000\n",
      "SawyerW    0.040411\n",
      "BrkSide    0.039726\n",
      "Crawfor    0.034932\n",
      "Mitchel    0.033562\n",
      "NoRidge    0.028082\n",
      "Timber     0.026027\n",
      "IDOTRR     0.025342\n",
      "ClearCr    0.019178\n",
      "StoneBr    0.017123\n",
      "SWISU      0.017123\n",
      "MeadowV    0.011644\n",
      "Blmngtn    0.011644\n",
      "BrDale     0.010959\n",
      "Veenker    0.007534\n",
      "NPkVill    0.006164\n",
      "Blueste    0.001370\n",
      "Name: Neighborhood, dtype: float64, 'Condition1': Norm      0.863014\n",
      "Feedr     0.055479\n",
      "Artery    0.032877\n",
      "RRAn      0.017808\n",
      "PosN      0.013014\n",
      "RRAe      0.007534\n",
      "PosA      0.005479\n",
      "RRNn      0.003425\n",
      "RRNe      0.001370\n",
      "Name: Condition1, dtype: float64, 'Condition2': Norm      0.989726\n",
      "Feedr     0.004110\n",
      "Artery    0.001370\n",
      "RRNn      0.001370\n",
      "PosN      0.001370\n",
      "PosA      0.000685\n",
      "RRAn      0.000685\n",
      "RRAe      0.000685\n",
      "Name: Condition2, dtype: float64, 'BldgType': 1Fam      0.835616\n",
      "TwnhsE    0.078082\n",
      "Duplex    0.035616\n",
      "Twnhs     0.029452\n",
      "2fmCon    0.021233\n",
      "Name: BldgType, dtype: float64, 'HouseStyle': 1Story    0.497260\n",
      "2Story    0.304795\n",
      "1.5Fin    0.105479\n",
      "SLvl      0.044521\n",
      "SFoyer    0.025342\n",
      "1.5Unf    0.009589\n",
      "2.5Unf    0.007534\n",
      "2.5Fin    0.005479\n",
      "Name: HouseStyle, dtype: float64, 'RoofStyle': Gable      0.781507\n",
      "Hip        0.195890\n",
      "Flat       0.008904\n",
      "Gambrel    0.007534\n",
      "Mansard    0.004795\n",
      "Shed       0.001370\n",
      "Name: RoofStyle, dtype: float64, 'RoofMatl': CompShg    0.982192\n",
      "Tar&Grv    0.007534\n",
      "WdShngl    0.004110\n",
      "WdShake    0.003425\n",
      "Metal      0.000685\n",
      "Membran    0.000685\n",
      "Roll       0.000685\n",
      "ClyTile    0.000685\n",
      "Name: RoofMatl, dtype: float64, 'Exterior1st': VinylSd    0.352740\n",
      "HdBoard    0.152055\n",
      "MetalSd    0.150685\n",
      "Wd Sdng    0.141096\n",
      "Plywood    0.073973\n",
      "CemntBd    0.041781\n",
      "BrkFace    0.034247\n",
      "WdShing    0.017808\n",
      "Stucco     0.017123\n",
      "AsbShng    0.013699\n",
      "BrkComm    0.001370\n",
      "Stone      0.001370\n",
      "AsphShn    0.000685\n",
      "ImStucc    0.000685\n",
      "CBlock     0.000685\n",
      "Name: Exterior1st, dtype: float64, 'Exterior2nd': VinylSd    0.345205\n",
      "MetalSd    0.146575\n",
      "HdBoard    0.141781\n",
      "Wd Sdng    0.134932\n",
      "Plywood    0.097260\n",
      "CmentBd    0.041096\n",
      "Wd Shng    0.026027\n",
      "Stucco     0.017808\n",
      "BrkFace    0.017123\n",
      "AsbShng    0.013699\n",
      "ImStucc    0.006849\n",
      "Brk Cmn    0.004795\n",
      "Stone      0.003425\n",
      "AsphShn    0.002055\n",
      "Other      0.000685\n",
      "CBlock     0.000685\n",
      "Name: Exterior2nd, dtype: float64, 'MasVnrType': None       0.591781\n",
      "BrkFace    0.304795\n",
      "Stone      0.087671\n",
      "BrkCmn     0.010274\n",
      "Missing    0.005479\n",
      "Name: MasVnrType, dtype: float64, 'ExterQual': TA    0.620548\n",
      "Gd    0.334247\n",
      "Ex    0.035616\n",
      "Fa    0.009589\n",
      "Name: ExterQual, dtype: float64, 'ExterCond': TA    0.878082\n",
      "Gd    0.100000\n",
      "Fa    0.019178\n",
      "Ex    0.002055\n",
      "Po    0.000685\n",
      "Name: ExterCond, dtype: float64, 'Foundation': PConc     0.443151\n",
      "CBlock    0.434247\n",
      "BrkTil    0.100000\n",
      "Slab      0.016438\n",
      "Stone     0.004110\n",
      "Wood      0.002055\n",
      "Name: Foundation, dtype: float64, 'BsmtQual': TA         0.444521\n",
      "Gd         0.423288\n",
      "Ex         0.082877\n",
      "Missing    0.025342\n",
      "Fa         0.023973\n",
      "Name: BsmtQual, dtype: float64, 'BsmtCond': TA         0.897945\n",
      "Gd         0.044521\n",
      "Fa         0.030822\n",
      "Missing    0.025342\n",
      "Po         0.001370\n",
      "Name: BsmtCond, dtype: float64, 'BsmtExposure': No         0.652740\n",
      "Av         0.151370\n",
      "Gd         0.091781\n",
      "Mn         0.078082\n",
      "Missing    0.026027\n",
      "Name: BsmtExposure, dtype: float64, 'BsmtFinType1': Unf        0.294521\n",
      "GLQ        0.286301\n",
      "ALQ        0.150685\n",
      "BLQ        0.101370\n",
      "Rec        0.091096\n",
      "LwQ        0.050685\n",
      "Missing    0.025342\n",
      "Name: BsmtFinType1, dtype: float64, 'BsmtFinType2': Unf        0.860274\n",
      "Rec        0.036986\n",
      "LwQ        0.031507\n",
      "Missing    0.026027\n",
      "BLQ        0.022603\n",
      "ALQ        0.013014\n",
      "GLQ        0.009589\n",
      "Name: BsmtFinType2, dtype: float64, 'Heating': GasA     0.978082\n",
      "GasW     0.012329\n",
      "Grav     0.004795\n",
      "Wall     0.002740\n",
      "OthW     0.001370\n",
      "Floor    0.000685\n",
      "Name: Heating, dtype: float64, 'HeatingQC': Ex    0.507534\n",
      "TA    0.293151\n",
      "Gd    0.165068\n",
      "Fa    0.033562\n",
      "Po    0.000685\n",
      "Name: HeatingQC, dtype: float64, 'CentralAir': Y    0.934932\n",
      "N    0.065068\n",
      "Name: CentralAir, dtype: float64, 'Electrical': SBrkr      0.913699\n",
      "FuseA      0.064384\n",
      "FuseF      0.018493\n",
      "FuseP      0.002055\n",
      "Mix        0.000685\n",
      "Missing    0.000685\n",
      "Name: Electrical, dtype: float64, 'KitchenQual': TA    0.503425\n",
      "Gd    0.401370\n",
      "Ex    0.068493\n",
      "Fa    0.026712\n",
      "Name: KitchenQual, dtype: float64, 'Functional': Typ     0.931507\n",
      "Min2    0.023288\n",
      "Min1    0.021233\n",
      "Mod     0.010274\n",
      "Maj1    0.009589\n",
      "Maj2    0.003425\n",
      "Sev     0.000685\n",
      "Name: Functional, dtype: float64, 'FireplaceQu': Missing    0.472603\n",
      "Gd         0.260274\n",
      "TA         0.214384\n",
      "Fa         0.022603\n",
      "Ex         0.016438\n",
      "Po         0.013699\n",
      "Name: FireplaceQu, dtype: float64, 'GarageType': Attchd     0.595890\n",
      "Detchd     0.265068\n",
      "BuiltIn    0.060274\n",
      "Missing    0.055479\n",
      "Basment    0.013014\n",
      "CarPort    0.006164\n",
      "2Types     0.004110\n",
      "Name: GarageType, dtype: float64, 'GarageFinish': Unf        0.414384\n",
      "RFn        0.289041\n",
      "Fin        0.241096\n",
      "Missing    0.055479\n",
      "Name: GarageFinish, dtype: float64, 'GarageQual': TA         0.897945\n",
      "Missing    0.055479\n",
      "Fa         0.032877\n",
      "Gd         0.009589\n",
      "Ex         0.002055\n",
      "Po         0.002055\n",
      "Name: GarageQual, dtype: float64, 'GarageCond': TA         0.908219\n",
      "Missing    0.055479\n",
      "Fa         0.023973\n",
      "Gd         0.006164\n",
      "Po         0.004795\n",
      "Ex         0.001370\n",
      "Name: GarageCond, dtype: float64, 'PavedDrive': Y    0.917808\n",
      "N    0.061644\n",
      "P    0.020548\n",
      "Name: PavedDrive, dtype: float64, 'PoolQC': Missing    0.995205\n",
      "Gd         0.002055\n",
      "Ex         0.001370\n",
      "Fa         0.001370\n",
      "Name: PoolQC, dtype: float64, 'Fence': Missing    0.807534\n",
      "MnPrv      0.107534\n",
      "GdPrv      0.040411\n",
      "GdWo       0.036986\n",
      "MnWw       0.007534\n",
      "Name: Fence, dtype: float64, 'MiscFeature': Missing    0.963014\n",
      "Shed       0.033562\n",
      "Gar2       0.001370\n",
      "Othr       0.001370\n",
      "TenC       0.000685\n",
      "Name: MiscFeature, dtype: float64, 'SaleType': WD       0.867808\n",
      "New      0.083562\n",
      "COD      0.029452\n",
      "ConLD    0.006164\n",
      "ConLI    0.003425\n",
      "ConLw    0.003425\n",
      "CWD      0.002740\n",
      "Oth      0.002055\n",
      "Con      0.001370\n",
      "Name: SaleType, dtype: float64, 'SaleCondition': Normal     0.820548\n",
      "Partial    0.085616\n",
      "Abnorml    0.069178\n",
      "Family     0.013699\n",
      "Alloca     0.008219\n",
      "AdjLand    0.002740\n",
      "Name: SaleCondition, dtype: float64}\n"
     ]
    }
   ],
   "source": [
    "print(freq_maps)"
   ]
  },
  {
   "cell_type": "code",
   "execution_count": 15,
   "id": "36e322cd",
   "metadata": {},
   "outputs": [],
   "source": [
    "#now test dataset \n",
    "dataset = pd.read_csv(\"test.csv\")\n",
    "#numerical feature and catogrical features and do look for this o it is captial not small***\n",
    "num = [i for i in dataset.columns if dataset[i].dtypes != \"O\"]\n",
    "cat = [i for i in dataset.columns if dataset[i].dtypes == \"O\"]\n",
    "#now continous and desceet features in num  and year\n",
    "yer = [i for i in dataset[num] if \"Yr\" in i or \"Year\" in i]\n",
    "cont = [i for i in dataset[num] if len(dataset[i].unique()) > 25 and i not in yer + [\"Id\"]]\n",
    "des = [i for i in dataset[num] if i not in cont]\n",
    "#now we will recalibrate year by sold year - current year features\n",
    "yer.remove(\"YrSold\")\n",
    "for i in yer :\n",
    "    dataset[i]= dataset[\"YrSold\"] - dataset[i]\n"
   ]
  },
  {
   "cell_type": "code",
   "execution_count": 16,
   "id": "c6c2897c",
   "metadata": {},
   "outputs": [],
   "source": [
    "#now we will take median value in numerical data to fill na\n",
    "dataset[num]= dataset[num].fillna(dataset[num].median())"
   ]
  },
  {
   "cell_type": "code",
   "execution_count": 17,
   "id": "027c30ac",
   "metadata": {},
   "outputs": [],
   "source": [
    "non_zero = [i for i in dataset[cont] if 0 not in dataset[i].unique()]\n",
    "log_list = ['LotFrontage', 'LotArea', '1stFlrSF', 'GrLivArea']\n",
    "for i in log_list:\n",
    "    dataset[i] = np.log(dataset[i])"
   ]
  },
  {
   "cell_type": "code",
   "execution_count": 18,
   "id": "4099511e",
   "metadata": {},
   "outputs": [],
   "source": [
    "non_skew = [i for i in num if i not in non_zero + [\"Id\"]+[\"YrSold\"] + yer + [\"MoSold\"]]\n",
    "for i in non_skew :\n",
    "    dataset[i] = np.log1p(dataset[i])"
   ]
  },
  {
   "cell_type": "code",
   "execution_count": 19,
   "id": "dabd03fb",
   "metadata": {},
   "outputs": [],
   "source": [
    "for col in cat:\n",
    "    dataset[col] = dataset[col].map(freq_maps[col])\n",
    "    dataset[col].fillna(0, inplace=True)"
   ]
  },
  {
   "cell_type": "code",
   "execution_count": 20,
   "id": "f722c154",
   "metadata": {},
   "outputs": [
    {
     "data": {
      "text/plain": [
       "MinMaxScaler()"
      ]
     },
     "execution_count": 20,
     "metadata": {},
     "output_type": "execute_result"
    }
   ],
   "source": [
    "#now scaling part \n",
    "scaled = [i for i in dataset.columns if i not in [\"Id\",\"SalePrice\"]]\n",
    "from sklearn.preprocessing import MinMaxScaler\n",
    "scale = MinMaxScaler()\n",
    "scale.fit(dataset[scaled])"
   ]
  },
  {
   "cell_type": "code",
   "execution_count": 21,
   "id": "62742deb",
   "metadata": {},
   "outputs": [],
   "source": [
    "scale.transform(dataset[scaled])\n",
    "added = pd.concat([dataset[[\"Id\"]].reset_index(drop=True),\n",
    "                   pd.DataFrame(scale.transform(dataset[scaled]) , columns = scaled)],axis=1)"
   ]
  },
  {
   "cell_type": "code",
   "execution_count": 22,
   "id": "3aafb2c3",
   "metadata": {},
   "outputs": [],
   "source": [
    "added.to_csv(\"X_test.csv\", index  = False)"
   ]
  },
  {
   "cell_type": "code",
   "execution_count": 2,
   "id": "4d921387",
   "metadata": {},
   "outputs": [],
   "source": [
    "#now we do the feature selections\n",
    "from sklearn.linear_model import Lasso\n",
    "from sklearn.feature_selection import SelectFromModel\n",
    "dataset=pd.read_csv('X_train.csv')\n",
    "dataset1=pd.read_csv('X_test.csv')"
   ]
  },
  {
   "cell_type": "code",
   "execution_count": 3,
   "id": "6badacd8",
   "metadata": {},
   "outputs": [],
   "source": [
    "y_train=dataset[['SalePrice']]\n",
    "X_train=dataset.drop(['Id','SalePrice'],axis=1)"
   ]
  },
  {
   "cell_type": "code",
   "execution_count": 4,
   "id": "28667df1",
   "metadata": {},
   "outputs": [
    {
     "data": {
      "text/plain": [
       "SelectFromModel(estimator=Lasso(alpha=0.005, random_state=40))"
      ]
     },
     "execution_count": 4,
     "metadata": {},
     "output_type": "execute_result"
    }
   ],
   "source": [
    "feature_sel_model = SelectFromModel(Lasso(alpha=0.005, random_state=40)) # remember to set the seed, the random state in this function\n",
    "feature_sel_model.fit(X_train, y_train)"
   ]
  },
  {
   "cell_type": "code",
   "execution_count": 5,
   "id": "212165ce",
   "metadata": {},
   "outputs": [
    {
     "data": {
      "text/plain": [
       "XGBRegressor(base_score=None, booster=None, callbacks=None,\n",
       "             colsample_bylevel=None, colsample_bynode=None,\n",
       "             colsample_bytree=0.7, device=None, early_stopping_rounds=None,\n",
       "             enable_categorical=False, eval_metric=None, feature_types=None,\n",
       "             gamma=None, grow_policy=None, importance_type=None,\n",
       "             interaction_constraints=None, learning_rate=0.01, max_bin=None,\n",
       "             max_cat_threshold=None, max_cat_to_onehot=None,\n",
       "             max_delta_step=None, max_depth=4, max_leaves=None,\n",
       "             min_child_weight=None, missing=nan, monotone_constraints=None,\n",
       "             multi_strategy=None, n_estimators=2000, n_jobs=None,\n",
       "             num_parallel_tree=None, random_state=40, ...)"
      ]
     },
     "execution_count": 5,
     "metadata": {},
     "output_type": "execute_result"
    }
   ],
   "source": [
    "from xgboost import XGBRegressor\n",
    "import numpy as np\n",
    "\n",
    "# Train the model on the selected features\n",
    "model = XGBRegressor(\n",
    "    n_estimators=2000,\n",
    "    learning_rate=0.01,\n",
    "    max_depth=4,\n",
    "    subsample=0.7,\n",
    "    colsample_bytree=0.7,\n",
    "    random_state=40\n",
    ")\n",
    "\n",
    "model.fit(X_train, y_train)"
   ]
  },
  {
   "cell_type": "code",
   "execution_count": 29,
   "id": "4da6efd2",
   "metadata": {},
   "outputs": [
    {
     "name": "stdout",
     "output_type": "stream",
     "text": [
      "Collecting xgboost\n",
      "  Downloading xgboost-2.1.4-py3-none-win_amd64.whl (124.9 MB)\n",
      "Requirement already satisfied: scipy in c:\\users\\kartik\\anaconda3\\lib\\site-packages (from xgboost) (1.7.3)\n",
      "Requirement already satisfied: numpy in c:\\users\\kartik\\anaconda3\\lib\\site-packages (from xgboost) (1.21.5)\n",
      "Installing collected packages: xgboost\n",
      "Successfully installed xgboost-2.1.4\n"
     ]
    }
   ],
   "source": [
    "!pip install xgboost"
   ]
  },
  {
   "cell_type": "code",
   "execution_count": 7,
   "id": "7af3ba86",
   "metadata": {},
   "outputs": [],
   "source": [
    "X_test = dataset1[X_train.columns]"
   ]
  },
  {
   "cell_type": "code",
   "execution_count": 8,
   "id": "a331bf6d",
   "metadata": {},
   "outputs": [],
   "source": [
    "test_preds = model.predict(X_test)"
   ]
  },
  {
   "cell_type": "code",
   "execution_count": 10,
   "id": "763e8488",
   "metadata": {},
   "outputs": [],
   "source": [
    "submission = pd.DataFrame({\n",
    "    \"Id\": dataset1[\"Id\"],\n",
    "    \"SalePrice\": test_preds\n",
    "})\n",
    "\n",
    "submission.to_csv(\"submission4.csv\", index=False)"
   ]
  },
  {
   "cell_type": "code",
   "execution_count": 9,
   "id": "dff332bf",
   "metadata": {},
   "outputs": [],
   "source": [
    "test_preds = np.expm1(test_preds)"
   ]
  },
  {
   "cell_type": "code",
   "execution_count": 5,
   "id": "1afb9caf",
   "metadata": {},
   "outputs": [
    {
     "data": {
      "text/plain": [
       "XGBRegressor(base_score=None, booster=None, callbacks=None,\n",
       "             colsample_bylevel=None, colsample_bynode=None,\n",
       "             colsample_bytree=0.8, device=None, early_stopping_rounds=None,\n",
       "             enable_categorical=False, eval_metric=None, feature_types=None,\n",
       "             gamma=None, grow_policy=None, importance_type=None,\n",
       "             interaction_constraints=None, learning_rate=0.01, max_bin=None,\n",
       "             max_cat_threshold=None, max_cat_to_onehot=None,\n",
       "             max_delta_step=None, max_depth=3, max_leaves=None,\n",
       "             min_child_weight=None, missing=nan, monotone_constraints=None,\n",
       "             multi_strategy=None, n_estimators=5000, n_jobs=None,\n",
       "             num_parallel_tree=None, random_state=40, ...)"
      ]
     },
     "execution_count": 5,
     "metadata": {},
     "output_type": "execute_result"
    }
   ],
   "source": [
    "from xgboost import XGBRegressor\n",
    "import numpy as np\n",
    "model = XGBRegressor(\n",
    "    n_estimators=5000,\n",
    "    learning_rate=0.01,\n",
    "    max_depth=3,\n",
    "    subsample=0.8,\n",
    "    colsample_bytree=0.8,\n",
    "    reg_alpha=0.0005,\n",
    "    reg_lambda=1,\n",
    "    random_state=40\n",
    ")\n",
    "model.fit(X_train, y_train)\n"
   ]
  },
  {
   "cell_type": "code",
   "execution_count": 46,
   "id": "a6972367",
   "metadata": {},
   "outputs": [],
   "source": [
    "submission = pd.DataFrame({\n",
    "    \"Id\": dataset1[\"Id\"],\n",
    "    \"SalePrice\": test_preds\n",
    "})\n",
    "\n",
    "submission.to_csv(\"submission3.csv\", index=False)"
   ]
  },
  {
   "cell_type": "code",
   "execution_count": 47,
   "id": "367d7fd4",
   "metadata": {},
   "outputs": [
    {
     "name": "stdout",
     "output_type": "stream",
     "text": [
      "Max log-prediction: inf\n",
      "Min log-prediction: inf\n"
     ]
    }
   ],
   "source": [
    "print(\"Max log-prediction:\", np.max(test_preds))\n",
    "print(\"Min log-prediction:\", np.min(test_preds))"
   ]
  },
  {
   "cell_type": "code",
   "execution_count": 6,
   "id": "069e1a3f",
   "metadata": {},
   "outputs": [
    {
     "name": "stdout",
     "output_type": "stream",
     "text": [
      "CV RMSE: 0.122786238683783\n"
     ]
    }
   ],
   "source": [
    "from sklearn.model_selection import KFold, cross_val_score\n",
    "\n",
    "kfold = KFold(n_splits=10, shuffle=True, random_state=40)\n",
    "\n",
    "scores = -1 * cross_val_score(\n",
    "    model, X_train, y_train,\n",
    "    scoring=\"neg_root_mean_squared_error\",\n",
    "    cv=kfold\n",
    ")\n",
    "\n",
    "print(\"CV RMSE:\", scores.mean())"
   ]
  },
  {
   "cell_type": "code",
   "execution_count": null,
   "id": "49d97492",
   "metadata": {},
   "outputs": [],
   "source": []
  }
 ],
 "metadata": {
  "kernelspec": {
   "display_name": "Python 3 (ipykernel)",
   "language": "python",
   "name": "python3"
  },
  "language_info": {
   "codemirror_mode": {
    "name": "ipython",
    "version": 3
   },
   "file_extension": ".py",
   "mimetype": "text/x-python",
   "name": "python",
   "nbconvert_exporter": "python",
   "pygments_lexer": "ipython3",
   "version": "3.9.12"
  }
 },
 "nbformat": 4,
 "nbformat_minor": 5
}
